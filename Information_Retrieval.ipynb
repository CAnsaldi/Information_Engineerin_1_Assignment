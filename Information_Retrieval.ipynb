{
 "cells": [
  {
   "cell_type": "code",
   "execution_count": 4,
   "metadata": {},
   "outputs": [],
   "source": [
    "import json"
   ]
  },
  {
   "cell_type": "code",
   "execution_count": 11,
   "metadata": {},
   "outputs": [
    {
     "name": "stdout",
     "output_type": "stream",
     "text": [
      "50\n",
      "7851\n"
     ]
    }
   ],
   "source": [
    "# Opening JSON file\n",
    "f_queries = open('Queries_Labeled.json',)\n",
    "f_collection = open('collection.json')\n",
    " \n",
    "# returns JSON object as\n",
    "# a dictionary\n",
    "data_queries = json.load(f_queries)\n",
    "data_collection = json.load(f_collection)\n",
    " \n",
    "# Iterating through the json\n",
    "# list\n",
    "#for i in data['documents']:\n",
    "#    print(i)\n",
    " \n",
    "queries = data_queries['documents']\n",
    "collection = data_collection['TREC']['DOC']\n",
    "print(len(queries))\n",
    "print(len(collection))\n",
    "\n",
    "# Closing file\n",
    "f_queries.close()\n",
    "f_collection.close()"
   ]
  },
  {
   "cell_type": "code",
   "execution_count": null,
   "metadata": {},
   "outputs": [],
   "source": []
  }
 ],
 "metadata": {
  "interpreter": {
   "hash": "b3ba2566441a7c06988d0923437866b63cedc61552a5af99d1f4fb67d367b25f"
  },
  "kernelspec": {
   "display_name": "Python 3.8.3 64-bit ('base': conda)",
   "language": "python",
   "name": "python3"
  },
  "language_info": {
   "codemirror_mode": {
    "name": "ipython",
    "version": 3
   },
   "file_extension": ".py",
   "mimetype": "text/x-python",
   "name": "python",
   "nbconvert_exporter": "python",
   "pygments_lexer": "ipython3",
   "version": "3.8.3"
  },
  "orig_nbformat": 4
 },
 "nbformat": 4,
 "nbformat_minor": 2
}
